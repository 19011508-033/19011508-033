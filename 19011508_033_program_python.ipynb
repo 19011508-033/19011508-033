{
  "nbformat": 4,
  "nbformat_minor": 0,
  "metadata": {
    "colab": {
      "name": "19011508-033 program python",
      "provenance": [],
      "collapsed_sections": [],
      "include_colab_link": true
    },
    "kernelspec": {
      "display_name": "Python 3",
      "name": "python3"
    }
  },
  "cells": [
    {
      "cell_type": "markdown",
      "metadata": {
        "id": "view-in-github",
        "colab_type": "text"
      },
      "source": [
        "<a href=\"https://colab.research.google.com/github/19011508-033/19011508-033/blob/main/19011508_033_program_python.ipynb\" target=\"_parent\"><img src=\"https://colab.research.google.com/assets/colab-badge.svg\" alt=\"Open In Colab\"/></a>"
      ]
    },
    {
      "cell_type": "code",
      "metadata": {
        "id": "HU7Mt3uZ14Qd",
        "colab": {
          "base_uri": "https://localhost:8080/"
        },
        "outputId": "034664f3-a95b-45b4-ffcf-891c9cc759f9"
      },
      "source": [
        "pi= 3.14\n",
        "r = float(input (\"input the radius of the circle:\"))\n",
        "area= pi*r*r\n",
        "print(\"the area of the circle with radius \" +str(r) + \"is:%.2f\"%area)"
      ],
      "execution_count": null,
      "outputs": [
        {
          "output_type": "stream",
          "text": [
            "input the radius of the circle: 4\n",
            "the area of the circle with radius 4.0is:50.24\n"
          ],
          "name": "stdout"
        }
      ]
    },
    {
      "cell_type": "code",
      "metadata": {
        "id": "SG88nFR35VvC",
        "colab": {
          "base_uri": "https://localhost:8080/"
        },
        "outputId": "6b0e0330-cfb5-4686-d50f-ebe04bc475ca"
      },
      "source": [
        "def test_distinct(data):\n",
        "  if len(data) == len(set(data)):\n",
        "    return True\n",
        "  else:\n",
        "    return False;\n",
        "print(test_distinct([1,2,3,8]))\n",
        "print(test_distinct([2,4,3,3,9,1]))"
      ],
      "execution_count": null,
      "outputs": [
        {
          "output_type": "stream",
          "text": [
            "True\n",
            "False\n"
          ],
          "name": "stdout"
        }
      ]
    },
    {
      "cell_type": "code",
      "metadata": {
        "id": "507jZLox5yj0",
        "colab": {
          "base_uri": "https://localhost:8080/"
        },
        "outputId": "5d3e39c5-02e2-499a-81f4-58102af3ce9c"
      },
      "source": [
        "def remove_nums(int_list):\n",
        "  #list starts with 0 index\n",
        "  position = 3 - 1 \n",
        "  idx = 0\n",
        "  len_list = (len(int_list))\n",
        "  while len_list>0:\n",
        "    idx = (position+idx)%len_list\n",
        "    print(int_list.pop(idx))\n",
        "    len_list -= 1\n",
        "nums = [23,20,21,30,40,50,70,80,90]\n",
        "remove_nums(nums)\n"
      ],
      "execution_count": null,
      "outputs": [
        {
          "output_type": "stream",
          "text": [
            "21\n",
            "50\n",
            "90\n",
            "30\n",
            "80\n",
            "40\n",
            "20\n",
            "70\n",
            "23\n"
          ],
          "name": "stdout"
        }
      ]
    },
    {
      "cell_type": "code",
      "metadata": {
        "id": "ujpVOoHnDBS_",
        "colab": {
          "base_uri": "https://localhost:8080/"
        },
        "outputId": "01e3679d-0c68-4a2d-fa87-255491fdd3fc"
      },
      "source": [
        "values = input(\"Input some comma seprated numbers : \")\n",
        "list = values.split(\",\")\n",
        "tuple = tuple(list)\n",
        "print('List1 : ',list)\n",
        "print('Tuple : ',tuple)"
      ],
      "execution_count": null,
      "outputs": [
        {
          "output_type": "stream",
          "text": [
            "Input some comma seprated numbers : 2,5,7,8\n",
            "List1 :  ['2', '5', '7', '8']\n",
            "Tuple :  ('2', '5', '7', '8')\n"
          ],
          "name": "stdout"
        }
      ]
    }
  ]
}